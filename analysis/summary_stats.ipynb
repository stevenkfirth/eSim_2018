{
 "cells": [
  {
   "cell_type": "markdown",
   "metadata": {},
   "source": [
    "# summary_stats"
   ]
  },
  {
   "cell_type": "markdown",
   "metadata": {},
   "source": [
    "This notebook shows how to calculate summary statistics of the information stored in the REFIT Smart Home Dataset."
   ]
  },
  {
   "cell_type": "code",
   "execution_count": 35,
   "metadata": {},
   "outputs": [
    {
     "name": "stdout",
     "output_type": "stream",
     "text": [
      "A COUNT OF THE ELEMENTS IN THE XML FILE:\n",
      "Appliance: 618; Boiler: 20; BoilerControl: 20; Building: 20; Climate: 1; Cooker: 19; FixedHeater: 19; HotWaterCylinder: 13; Household: 20; Light: 319; Meter: 40; Opening: 1,055; Person: 58; PhotovoltaicArray: 5; Plug: 421; Radiator: 252; RadiatorValve: 367; RefitXML: 1; RoomThermostat: 31; Sensor: 1,567; SolarThermalArray: 3; Space: 389; Stock: 1; Surface: 2,536; TimeSeriesVariable: 2,457; WaterOutlet: 34\n",
      "\n",
      "A SUMMARY OF THE CSV FILE:\n",
      "Number of readings (i.e. rows): 25,312,397; Number of Variables: 2,320\n"
     ]
    }
   ],
   "source": [
    "from lxml import etree; from collections import Counter; import pandas as pd  # imports external libraries and packages\n",
    "xml=r'REFIT_BUILDING_SURVEY.xml'  # the name of the refitXML file  \n",
    "csv=r'REFIT_TIME_SERIES_VALUES.csv'  # the name of the refit csv file\n",
    "NS={'a':'http://www.refitsmarthomes.org'}  # the xml namespace of the refitXML file\n",
    "tree=etree.parse(xml)  # parses the refitXML file into an lxml etree variable\n",
    "elements=tree.getroot().xpath('//a:*',namespaces=NS)  # finds all the elements in the xml file\n",
    "tags=[e.tag.split('}')[1] for e in elements]  # returns all the tags (not including the namespaces) of the elements\n",
    "c=Counter(tags)  # a Counter object based on the tags list\n",
    "print('A COUNT OF THE ELEMENTS IN THE XML FILE:')\n",
    "print('; '.join(['{}: {:,}'.format(x, c[x]) for x in sorted(c.keys())]))  # formats and prints Counter c\n",
    "print('')\n",
    "df=pd.read_csv(csv)  # reads the csv file into a pandas DataFrame object\n",
    "u=df['TimeSeriesVariable/@id'].unique()  # the unique values in the TimeSeriesVariable/@id column\n",
    "print('A SUMMARY OF THE CSV FILE:')\n",
    "print('Number of readings (i.e. rows): {:,}; Number of Variables: {:,}'.format(len(df),len(u)))"
   ]
  }
 ],
 "metadata": {
  "kernelspec": {
   "display_name": "Python 3",
   "language": "python",
   "name": "python3"
  },
  "language_info": {
   "codemirror_mode": {
    "name": "ipython",
    "version": 3
   },
   "file_extension": ".py",
   "mimetype": "text/x-python",
   "name": "python",
   "nbconvert_exporter": "python",
   "pygments_lexer": "ipython3",
   "version": "3.6.0"
  }
 },
 "nbformat": 4,
 "nbformat_minor": 2
}
